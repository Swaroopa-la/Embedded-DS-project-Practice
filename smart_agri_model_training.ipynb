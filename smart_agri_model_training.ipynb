
# Smart Agriculture Soil Moisture Prediction - Model Training

import pandas as pd
import numpy as np
from datetime import datetime, timedelta
from sklearn.ensemble import GradientBoostingRegressor
from sklearn.model_selection import train_test_split, cross_val_score
from sklearn.pipeline import Pipeline
from sklearn.preprocessing import StandardScaler
from sklearn.impute import SimpleImputer
from sklearn.metrics import mean_absolute_error, r2_score

# 1. Simulate Sensor Data
timestamps = [datetime.now() - timedelta(hours=i) for i in range(7 * 24)]
timestamps.reverse()

np.random.seed(42)
data = {
    'timestamp': timestamps,
    'soil_moisture': np.random.normal(loc=40, scale=5, size=168),
    'temperature': np.random.normal(loc=28, scale=2, size=168),
    'humidity': np.random.normal(loc=60, scale=10, size=168)
}
df = pd.DataFrame(data)

# 2. Feature Engineering
df['hour'] = pd.to_datetime(df['timestamp']).dt.hour
df['day'] = pd.to_datetime(df['timestamp']).dt.dayofweek
df['is_day'] = df['hour'].apply(lambda h: 1 if 6 <= h <= 18 else 0)
df['prev_soil_moisture'] = df['soil_moisture'].shift(1)
df.dropna(inplace=True)

# 3. Remove Outliers
df_filtered = df[(df['soil_moisture'] > 20) & (df['soil_moisture'] < 60)]

# 4. Prepare Data
features = ['temperature', 'humidity', 'hour', 'day', 'is_day', 'prev_soil_moisture']
X_filtered = df_filtered[features]
y_filtered = df_filtered['soil_moisture']
X_train_f, X_test_f, y_train_f, y_test_f = train_test_split(X_filtered, y_filtered, test_size=0.2, random_state=42)

# 5. Build and Train Model Pipeline
pipeline = Pipeline([
    ('imputer', SimpleImputer(strategy='mean')),
    ('scaler', StandardScaler()),
    ('model', GradientBoostingRegressor(random_state=42, n_estimators=150, max_depth=4, learning_rate=0.1))
])

# 6. Cross-Validation
cv_scores = cross_val_score(pipeline, X_filtered, y_filtered, cv=5, scoring='neg_mean_absolute_error')
mean_cv_mae = -cv_scores.mean()

# 7. Train Final Model and Evaluate
pipeline.fit(X_train_f, y_train_f)
y_pred_f = pipeline.predict(X_test_f)
final_mae = mean_absolute_error(y_test_f, y_pred_f)
final_r2 = r2_score(y_test_f, y_pred_f)

print("Cross-Validated MAE:", round(mean_cv_mae, 2))
print("Final Test MAE:", round(final_mae, 2))
print("R² Score (Test):", round(final_r2, 2))
